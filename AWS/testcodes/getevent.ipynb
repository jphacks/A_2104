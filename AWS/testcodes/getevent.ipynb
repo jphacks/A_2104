{
 "cells": [
  {
   "cell_type": "markdown",
   "id": "17125b45-9e37-45c7-99b8-790ebc00e9c1",
   "metadata": {},
   "source": [
    "# 作ったAPIをテストするお"
   ]
  },
  {
   "cell_type": "code",
   "execution_count": 1,
   "id": "7a64eba0-4625-405b-a3af-461c3adb8334",
   "metadata": {},
   "outputs": [],
   "source": [
    "import requests\n",
    "import json\n",
    "import os"
   ]
  },
  {
   "cell_type": "markdown",
   "id": "ea0aaa40-9ae7-43e6-b164-aae8b77f161c",
   "metadata": {},
   "source": [
    "# 仕様\n",
    "Payload : emailとdays\n",
    "\n",
    "Responce : 長さが2のリスト．1個目の要素は，期間に含まれるイベントの情報すべて． 2個目は，1個目の中で，実際に経路の選択が必要なイベント．(場所が指定されていないか，\"オンライン\"，\"自宅\"となっているもの．)"
   ]
  },
  {
   "cell_type": "code",
   "execution_count": 33,
   "id": "297325ed-d22f-46e8-8957-6ac263d92143",
   "metadata": {},
   "outputs": [],
   "source": [
    "API_ENDPOINT =  \"None\"\n",
    "payload = {\n",
    "  \"email\": \"None\",\n",
    "  \"days\" : \"3\",\n",
    "}\n",
    "API_HEADER = {\"Content-Type\": \"application/json\"}"
   ]
  },
  {
   "cell_type": "code",
   "execution_count": 46,
   "id": "cac3ef26-80d5-4168-a896-f4fe5c51222e",
   "metadata": {},
   "outputs": [],
   "source": [
    "res_raw  = requests.post(API_ENDPOINT, data=json.dumps(payload),headers=API_HEADER)"
   ]
  },
  {
   "cell_type": "code",
   "execution_count": 47,
   "id": "3545a0bd-edd4-44d1-b480-090caf011480",
   "metadata": {},
   "outputs": [],
   "source": [
    "res = json.loads(res_raw.text)[\"body\"]"
   ]
  },
  {
   "cell_type": "code",
   "execution_count": 49,
   "id": "8e5374a5-798d-4498-b66f-2e4450376a65",
   "metadata": {},
   "outputs": [
    {
     "data": {
      "text/plain": [
       "2"
      ]
     },
     "execution_count": 49,
     "metadata": {},
     "output_type": "execute_result"
    }
   ],
   "source": [
    "len(json.loads(res)) #前半，後半の2つ"
   ]
  },
  {
   "cell_type": "code",
   "execution_count": 52,
   "id": "b927e0cc-aec8-4be5-b578-323513eab16a",
   "metadata": {},
   "outputs": [
    {
     "data": {
      "text/plain": [
       "[[{'summary': '大学',\n",
       "   'location': 'Tohoku University, 2-chōme-1-1 Katahira, Aoba Ward, Sendai, Miyagi 980-8577, Japan',\n",
       "   'start': '2021-10-29T12:00:00+09:00',\n",
       "   'end': '2021-10-29T17:00:00+09:00'},\n",
       "  {'summary': '抗議',\n",
       "   'location': 'The University of Tokyo, 7-chōme-3-1 Hongō, Bunkyo City, Tokyo 113-8654, Japan',\n",
       "   'start': '2021-10-30T12:00:00+09:00',\n",
       "   'end': '2021-10-30T17:00:00+09:00'},\n",
       "  {'summary': '工学部',\n",
       "   'location': '東北大学 工学部 中央棟, Aoba-6-6 Aramaki, Aoba Ward, Sendai, Miyagi 980-0845, Japan',\n",
       "   'start': '2021-10-31T13:00:00+09:00',\n",
       "   'end': '2021-10-31T19:00:00+09:00'},\n",
       "  {'summary': 'foo',\n",
       "   'location': None,\n",
       "   'start': '2021-10-31T10:00:00+09:00',\n",
       "   'end': '2021-10-31T11:00:00+09:00'}],\n",
       " [{'summary': '大学',\n",
       "   'location': 'Tohoku University, 2-chōme-1-1 Katahira, Aoba Ward, Sendai, Miyagi 980-8577, Japan',\n",
       "   'start': '2021-10-29T12:00:00+09:00',\n",
       "   'end': '2021-10-29T17:00:00+09:00'},\n",
       "  {'summary': '抗議',\n",
       "   'location': 'The University of Tokyo, 7-chōme-3-1 Hongō, Bunkyo City, Tokyo 113-8654, Japan',\n",
       "   'start': '2021-10-30T12:00:00+09:00',\n",
       "   'end': '2021-10-30T17:00:00+09:00'},\n",
       "  {'summary': '工学部',\n",
       "   'location': '東北大学 工学部 中央棟, Aoba-6-6 Aramaki, Aoba Ward, Sendai, Miyagi 980-0845, Japan',\n",
       "   'start': '2021-10-31T13:00:00+09:00',\n",
       "   'end': '2021-10-31T19:00:00+09:00'}]]"
      ]
     },
     "execution_count": 52,
     "metadata": {},
     "output_type": "execute_result"
    }
   ],
   "source": [
    "json.loads(res)"
   ]
  },
  {
   "cell_type": "code",
   "execution_count": 51,
   "id": "60a4b568-b22a-42d1-971b-6a5f78d192ed",
   "metadata": {},
   "outputs": [
    {
     "data": {
      "text/plain": [
       "[{'summary': '大学',\n",
       "  'location': 'Tohoku University, 2-chōme-1-1 Katahira, Aoba Ward, Sendai, Miyagi 980-8577, Japan',\n",
       "  'start': '2021-10-29T12:00:00+09:00',\n",
       "  'end': '2021-10-29T17:00:00+09:00'},\n",
       " {'summary': '抗議',\n",
       "  'location': 'The University of Tokyo, 7-chōme-3-1 Hongō, Bunkyo City, Tokyo 113-8654, Japan',\n",
       "  'start': '2021-10-30T12:00:00+09:00',\n",
       "  'end': '2021-10-30T17:00:00+09:00'},\n",
       " {'summary': '工学部',\n",
       "  'location': '東北大学 工学部 中央棟, Aoba-6-6 Aramaki, Aoba Ward, Sendai, Miyagi 980-0845, Japan',\n",
       "  'start': '2021-10-31T13:00:00+09:00',\n",
       "  'end': '2021-10-31T19:00:00+09:00'}]"
      ]
     },
     "execution_count": 51,
     "metadata": {},
     "output_type": "execute_result"
    }
   ],
   "source": [
    "json.loads(res)[1]"
   ]
  },
  {
   "cell_type": "code",
   "execution_count": 45,
   "id": "7aa2fb58-ecad-4216-b228-70961cba68dc",
   "metadata": {},
   "outputs": [
    {
     "data": {
      "text/plain": [
       "[{'summary': '大学',\n",
       "  'location': 'Tohoku University, 2-chōme-1-1 Katahira, Aoba Ward, Sendai, Miyagi 980-8577, Japan',\n",
       "  'start': '2021-10-29T12:00:00+09:00',\n",
       "  'end': '2021-10-29T17:00:00+09:00'},\n",
       " {'summary': '抗議',\n",
       "  'location': 'The University of Tokyo, 7-chōme-3-1 Hongō, Bunkyo City, Tokyo 113-8654, Japan',\n",
       "  'start': '2021-10-30T12:00:00+09:00',\n",
       "  'end': '2021-10-30T17:00:00+09:00'},\n",
       " {'summary': '工学部',\n",
       "  'location': '東北大学 工学部 中央棟, Aoba-6-6 Aramaki, Aoba Ward, Sendai, Miyagi 980-0845, Japan',\n",
       "  'start': '2021-10-31T13:00:00+09:00',\n",
       "  'end': '2021-10-31T19:00:00+09:00'}]"
      ]
     },
     "execution_count": 45,
     "metadata": {},
     "output_type": "execute_result"
    }
   ],
   "source": [
    "#試しに，1つめを表示\n",
    "res_dict = json.loads(res)[0]\n",
    "res_dict"
   ]
  },
  {
   "cell_type": "markdown",
   "id": "420f4328-e700-414b-9231-e4879400bf4a",
   "metadata": {},
   "source": [
    "Important Keys\n",
    "\n",
    "'summury'\n",
    "'location'\n",
    "'start'\n",
    "'end'"
   ]
  }
 ],
 "metadata": {
  "kernelspec": {
   "display_name": "Python 3 (ipykernel)",
   "language": "python",
   "name": "python3"
  },
  "language_info": {
   "codemirror_mode": {
    "name": "ipython",
    "version": 3
   },
   "file_extension": ".py",
   "mimetype": "text/x-python",
   "name": "python",
   "nbconvert_exporter": "python",
   "pygments_lexer": "ipython3",
   "version": "3.8.1"
  }
 },
 "nbformat": 4,
 "nbformat_minor": 5
}
