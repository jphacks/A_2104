{
 "cells": [
  {
   "cell_type": "markdown",
   "id": "17125b45-9e37-45c7-99b8-790ebc00e9c1",
   "metadata": {},
   "source": [
    "# 作ったAPIをテストするお"
   ]
  },
  {
   "cell_type": "code",
   "execution_count": 1,
   "id": "7a64eba0-4625-405b-a3af-461c3adb8334",
   "metadata": {},
   "outputs": [],
   "source": [
    "import requests\n",
    "import json"
   ]
  },
  {
   "cell_type": "code",
   "execution_count": 39,
   "id": "297325ed-d22f-46e8-8957-6ac263d92143",
   "metadata": {},
   "outputs": [],
   "source": [
    "API_ENDPOINT =  \"https://bp9tcorci4.execute-api.ap-northeast-1.amazonaws.com/production/getevent\"\n",
    "payload = {\n",
    "  \"email\": \"wiwijohnson@gmail.com\",\n",
    "  \"start\": \"2021-10-25T12:24:07+09:00\",\n",
    "  \"end\": \"2021-10-30T12:24:07+09:00\"\n",
    "}\n",
    "API_HEADER = {\"Content-Type\": \"application/json\"}"
   ]
  },
  {
   "cell_type": "code",
   "execution_count": 40,
   "id": "cac3ef26-80d5-4168-a896-f4fe5c51222e",
   "metadata": {},
   "outputs": [],
   "source": [
    "res_raw  = requests.post(API_ENDPOINT, data=json.dumps(payload),headers=API_HEADER)"
   ]
  },
  {
   "cell_type": "code",
   "execution_count": 42,
   "id": "3545a0bd-edd4-44d1-b480-090caf011480",
   "metadata": {},
   "outputs": [],
   "source": [
    "res = json.loads(res_raw.text)[\"body\"]"
   ]
  },
  {
   "cell_type": "code",
   "execution_count": 43,
   "id": "616b03eb-23bc-4b52-a1c7-cfe8bcb9a6a4",
   "metadata": {},
   "outputs": [
    {
     "data": {
      "text/plain": [
       "'[{\"kind\": \"calendar#event\", \"etag\": \"\\\\\"3270265666396000\\\\\"\", \"id\": \"42k0afo45u5n7tehav40m80qul\", \"status\": \"confirmed\", \"htmlLink\": \"https://www.google.com/calendar/event?eid=NDJrMGFmbzQ1dTVuN3RlaGF2NDBtODBxdWwgd2l3aWpvaG5zb25AbQ\", \"created\": \"2021-10-25T03:33:53.000Z\", \"updated\": \"2021-10-25T03:33:53.198Z\", \"summary\": \"\\\\u304a\\\\u5bdd\\\\u3093\\\\u306d\\\\u3059\\\\u308b\", \"creator\": {\"email\": \"wiwijohnson@gmail.com\", \"self\": true}, \"organizer\": {\"email\": \"wiwijohnson@gmail.com\", \"self\": true}, \"start\": {\"dateTime\": \"2021-10-27T21:00:00+09:00\", \"timeZone\": \"Asia/Tokyo\"}, \"end\": {\"dateTime\": \"2021-10-27T22:00:00+09:00\", \"timeZone\": \"Asia/Tokyo\"}, \"iCalUID\": \"42k0afo45u5n7tehav40m80qul@google.com\", \"sequence\": 0, \"reminders\": {\"useDefault\": true}, \"eventType\": \"default\"}, {\"kind\": \"calendar#event\", \"etag\": \"\\\\\"3270281670420000\\\\\"\", \"id\": \"0iivs2dlcr7slscpt03t899o3g\", \"status\": \"confirmed\", \"htmlLink\": \"https://www.google.com/calendar/event?eid=MGlpdnMyZGxjcjdzbHNjcHQwM3Q4OTlvM2cgd2l3aWpvaG5zb25AbQ\", \"created\": \"2021-10-25T04:57:11.000Z\", \"updated\": \"2021-10-25T05:47:15.210Z\", \"summary\": \"\\\\u52c9\\\\u5f37\\\\u3092\\\\u3057\\\\u305f\\\\u3044\\\\u3067\\\\u3059\", \"location\": \"\\\\u6771\\\\u5317\\\\u5927\\\\u5b66, \\\\u65e5\\\\u672c\\\\u3001\\\\u3012980-8577 \\\\u5bae\\\\u57ce\\\\u770c\\\\u4ed9\\\\u53f0\\\\u5e02\\\\u9752\\\\u8449\\\\u533a\\\\u7247\\\\u5e73\\\\uff12\\\\u4e01\\\\u76ee\\\\uff11\\\\u2212\\\\uff11\", \"creator\": {\"email\": \"wiwijohnson@gmail.com\", \"self\": true}, \"organizer\": {\"email\": \"wiwijohnson@gmail.com\", \"self\": true}, \"start\": {\"dateTime\": \"2021-10-28T14:30:00+09:00\", \"timeZone\": \"Asia/Tokyo\"}, \"end\": {\"dateTime\": \"2021-10-28T15:30:00+09:00\", \"timeZone\": \"Asia/Tokyo\"}, \"iCalUID\": \"0iivs2dlcr7slscpt03t899o3g@google.com\", \"sequence\": 0, \"reminders\": {\"useDefault\": true}, \"eventType\": \"default\"}, {\"kind\": \"calendar#event\", \"etag\": \"\\\\\"3270281775166000\\\\\"\", \"id\": \"561to8bb1v14ld3acfjf90o1sv\", \"status\": \"confirmed\", \"htmlLink\": \"https://www.google.com/calendar/event?eid=NTYxdG84YmIxdjE0bGQzYWNmamY5MG8xc3Ygd2l3aWpvaG5zb25AbQ\", \"created\": \"2021-10-25T04:57:25.000Z\", \"updated\": \"2021-10-25T05:48:07.583Z\", \"summary\": \"\\\\u30b9\\\\u30dd\\\\u30f3\\\\u30b8\\\\u30dc\\\\u30d6\", \"location\": \"\\\\u4ed9\\\\u53f0\\\\u99c5, \\\\u65e5\\\\u672c\\\\u3001\\\\u3012980-0021 \\\\u5bae\\\\u57ce\\\\u770c\\\\u4ed9\\\\u53f0\\\\u5e02\\\\u9752\\\\u8449\\\\u533a\\\\u4e2d\\\\u592e\\\\uff11\\\\u4e01\\\\u76ee\\\\uff11\\\\uff10\\\\u2212\\\\uff11\\\\uff10\", \"creator\": {\"email\": \"wiwijohnson@gmail.com\", \"self\": true}, \"organizer\": {\"email\": \"wiwijohnson@gmail.com\", \"self\": true}, \"start\": {\"dateTime\": \"2021-10-29T09:00:00+09:00\", \"timeZone\": \"Asia/Tokyo\"}, \"end\": {\"dateTime\": \"2021-10-29T10:00:00+09:00\", \"timeZone\": \"Asia/Tokyo\"}, \"iCalUID\": \"561to8bb1v14ld3acfjf90o1sv@google.com\", \"sequence\": 0, \"reminders\": {\"useDefault\": true}, \"eventType\": \"default\"}]'"
      ]
     },
     "execution_count": 43,
     "metadata": {},
     "output_type": "execute_result"
    }
   ],
   "source": [
    "res"
   ]
  },
  {
   "cell_type": "code",
   "execution_count": 44,
   "id": "8e5374a5-798d-4498-b66f-2e4450376a65",
   "metadata": {},
   "outputs": [
    {
     "data": {
      "text/plain": [
       "[{'kind': 'calendar#event',\n",
       "  'etag': '\"3270265666396000\"',\n",
       "  'id': '42k0afo45u5n7tehav40m80qul',\n",
       "  'status': 'confirmed',\n",
       "  'htmlLink': 'https://www.google.com/calendar/event?eid=NDJrMGFmbzQ1dTVuN3RlaGF2NDBtODBxdWwgd2l3aWpvaG5zb25AbQ',\n",
       "  'created': '2021-10-25T03:33:53.000Z',\n",
       "  'updated': '2021-10-25T03:33:53.198Z',\n",
       "  'summary': 'お寝んねする',\n",
       "  'creator': {'email': 'wiwijohnson@gmail.com', 'self': True},\n",
       "  'organizer': {'email': 'wiwijohnson@gmail.com', 'self': True},\n",
       "  'start': {'dateTime': '2021-10-27T21:00:00+09:00', 'timeZone': 'Asia/Tokyo'},\n",
       "  'end': {'dateTime': '2021-10-27T22:00:00+09:00', 'timeZone': 'Asia/Tokyo'},\n",
       "  'iCalUID': '42k0afo45u5n7tehav40m80qul@google.com',\n",
       "  'sequence': 0,\n",
       "  'reminders': {'useDefault': True},\n",
       "  'eventType': 'default'},\n",
       " {'kind': 'calendar#event',\n",
       "  'etag': '\"3270281670420000\"',\n",
       "  'id': '0iivs2dlcr7slscpt03t899o3g',\n",
       "  'status': 'confirmed',\n",
       "  'htmlLink': 'https://www.google.com/calendar/event?eid=MGlpdnMyZGxjcjdzbHNjcHQwM3Q4OTlvM2cgd2l3aWpvaG5zb25AbQ',\n",
       "  'created': '2021-10-25T04:57:11.000Z',\n",
       "  'updated': '2021-10-25T05:47:15.210Z',\n",
       "  'summary': '勉強をしたいです',\n",
       "  'location': '東北大学, 日本、〒980-8577 宮城県仙台市青葉区片平２丁目１−１',\n",
       "  'creator': {'email': 'wiwijohnson@gmail.com', 'self': True},\n",
       "  'organizer': {'email': 'wiwijohnson@gmail.com', 'self': True},\n",
       "  'start': {'dateTime': '2021-10-28T14:30:00+09:00', 'timeZone': 'Asia/Tokyo'},\n",
       "  'end': {'dateTime': '2021-10-28T15:30:00+09:00', 'timeZone': 'Asia/Tokyo'},\n",
       "  'iCalUID': '0iivs2dlcr7slscpt03t899o3g@google.com',\n",
       "  'sequence': 0,\n",
       "  'reminders': {'useDefault': True},\n",
       "  'eventType': 'default'},\n",
       " {'kind': 'calendar#event',\n",
       "  'etag': '\"3270281775166000\"',\n",
       "  'id': '561to8bb1v14ld3acfjf90o1sv',\n",
       "  'status': 'confirmed',\n",
       "  'htmlLink': 'https://www.google.com/calendar/event?eid=NTYxdG84YmIxdjE0bGQzYWNmamY5MG8xc3Ygd2l3aWpvaG5zb25AbQ',\n",
       "  'created': '2021-10-25T04:57:25.000Z',\n",
       "  'updated': '2021-10-25T05:48:07.583Z',\n",
       "  'summary': 'スポンジボブ',\n",
       "  'location': '仙台駅, 日本、〒980-0021 宮城県仙台市青葉区中央１丁目１０−１０',\n",
       "  'creator': {'email': 'wiwijohnson@gmail.com', 'self': True},\n",
       "  'organizer': {'email': 'wiwijohnson@gmail.com', 'self': True},\n",
       "  'start': {'dateTime': '2021-10-29T09:00:00+09:00', 'timeZone': 'Asia/Tokyo'},\n",
       "  'end': {'dateTime': '2021-10-29T10:00:00+09:00', 'timeZone': 'Asia/Tokyo'},\n",
       "  'iCalUID': '561to8bb1v14ld3acfjf90o1sv@google.com',\n",
       "  'sequence': 0,\n",
       "  'reminders': {'useDefault': True},\n",
       "  'eventType': 'default'}]"
      ]
     },
     "execution_count": 44,
     "metadata": {},
     "output_type": "execute_result"
    }
   ],
   "source": [
    "json.loads(res) #イベントごとに，辞書形式になっている"
   ]
  },
  {
   "cell_type": "code",
   "execution_count": 45,
   "id": "7aa2fb58-ecad-4216-b228-70961cba68dc",
   "metadata": {},
   "outputs": [
    {
     "data": {
      "text/plain": [
       "{'kind': 'calendar#event',\n",
       " 'etag': '\"3270265666396000\"',\n",
       " 'id': '42k0afo45u5n7tehav40m80qul',\n",
       " 'status': 'confirmed',\n",
       " 'htmlLink': 'https://www.google.com/calendar/event?eid=NDJrMGFmbzQ1dTVuN3RlaGF2NDBtODBxdWwgd2l3aWpvaG5zb25AbQ',\n",
       " 'created': '2021-10-25T03:33:53.000Z',\n",
       " 'updated': '2021-10-25T03:33:53.198Z',\n",
       " 'summary': 'お寝んねする',\n",
       " 'creator': {'email': 'wiwijohnson@gmail.com', 'self': True},\n",
       " 'organizer': {'email': 'wiwijohnson@gmail.com', 'self': True},\n",
       " 'start': {'dateTime': '2021-10-27T21:00:00+09:00', 'timeZone': 'Asia/Tokyo'},\n",
       " 'end': {'dateTime': '2021-10-27T22:00:00+09:00', 'timeZone': 'Asia/Tokyo'},\n",
       " 'iCalUID': '42k0afo45u5n7tehav40m80qul@google.com',\n",
       " 'sequence': 0,\n",
       " 'reminders': {'useDefault': True},\n",
       " 'eventType': 'default'}"
      ]
     },
     "execution_count": 45,
     "metadata": {},
     "output_type": "execute_result"
    }
   ],
   "source": [
    "#試しに，1つめを表示\n",
    "res_dict = json.loads(res)[0]\n",
    "res_dict"
   ]
  }
 ],
 "metadata": {
  "kernelspec": {
   "display_name": "Python 3 (ipykernel)",
   "language": "python",
   "name": "python3"
  },
  "language_info": {
   "codemirror_mode": {
    "name": "ipython",
    "version": 3
   },
   "file_extension": ".py",
   "mimetype": "text/x-python",
   "name": "python",
   "nbconvert_exporter": "python",
   "pygments_lexer": "ipython3",
   "version": "3.8.1"
  }
 },
 "nbformat": 4,
 "nbformat_minor": 5
}
